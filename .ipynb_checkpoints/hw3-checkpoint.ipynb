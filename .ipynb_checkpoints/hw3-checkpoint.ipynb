{
 "cells": [
  {
   "cell_type": "code",
   "execution_count": 1,
   "metadata": {
    "collapsed": true
   },
   "outputs": [],
   "source": [
    "import struct\n",
    "from array import array\n",
    "from collections import defaultdict\n",
    "import sys\n",
    "from random import sample, randint\n",
    "import numpy as np\n",
    "import scipy.spatial\n",
    "import math"
   ]
  },
  {
   "cell_type": "code",
   "execution_count": 2,
   "metadata": {
    "collapsed": true
   },
   "outputs": [],
   "source": [
    "def load(path_img, path_lbl):\n",
    "    with open(path_lbl, 'rb') as file:\n",
    "        magic, size = struct.unpack(\">II\", file.read(8))\n",
    "        if magic != 2049:\n",
    "            raise ValueError('Magic number mismatch, expected 2049,'\n",
    "                             'got {}'.format(magic))\n",
    "\n",
    "        labels = array(\"B\", file.read())\n",
    "\n",
    "    with open(path_img, 'rb') as file:\n",
    "        magic, size, rows, cols = struct.unpack(\">IIII\", file.read(16))\n",
    "        if magic != 2051:\n",
    "            raise ValueError('Magic number mismatch, expected 2051,'\n",
    "                             'got {}'.format(magic))\n",
    "\n",
    "        image_data = array(\"B\", file.read())\n",
    "\n",
    "    images = []\n",
    "    for i in range(size):\n",
    "        images.append([0] * rows * cols)\n",
    "\n",
    "    for i in range(size):\n",
    "        images[i][:] = image_data[i * rows * cols:(i + 1) * rows * cols]\n",
    "\n",
    "    return images, labels"
   ]
  },
  {
   "cell_type": "code",
   "execution_count": 3,
   "metadata": {
    "collapsed": true
   },
   "outputs": [],
   "source": [
    "raw_train_images, raw_train_labels = load(\"data/hw3/train-images-idx3-ubyte\", \"data/hw3/train-labels-idx1-ubyte\")\n",
    "test_images, test_labels = load(\"data/hw3/t10k-images-idx3-ubyte\", \"data/hw3/t10k-labels-idx1-ubyte\")"
   ]
  },
  {
   "cell_type": "code",
   "execution_count": 4,
   "metadata": {
    "collapsed": false
   },
   "outputs": [],
   "source": [
    "total_size = len(raw_train_images)\n",
    "train_size = 50000\n",
    "validation_size = total_size - train_size"
   ]
  },
  {
   "cell_type": "code",
   "execution_count": 5,
   "metadata": {
    "collapsed": false
   },
   "outputs": [],
   "source": [
    "indexs = sample(range(total_size), train_size)\n",
    "indexs.sort()\n",
    "train_data = np.array(raw_train_images)[indexs]\n",
    "train_labels = np.array(raw_train_labels)[indexs]\n",
    "validation_indexs = [x for x in range(total_size) if x not in indexs]\n",
    "validation_data = np.array(raw_train_images)[validation_indexs]\n",
    "validation_labels = np.array(raw_train_labels)[validation_indexs]"
   ]
  },
  {
   "cell_type": "code",
   "execution_count": 6,
   "metadata": {
    "collapsed": false
   },
   "outputs": [],
   "source": [
    "train_arrays = [[] for i in range(10)]\n",
    "for i in range(train_size):\n",
    "    train_arrays[train_labels[i]].append(train_data[i])"
   ]
  },
  {
   "cell_type": "code",
   "execution_count": 7,
   "metadata": {
    "collapsed": false
   },
   "outputs": [],
   "source": [
    "means = [np.average(np.array(train_arrays[i]).T, axis=1) for i in range(10)]"
   ]
  },
  {
   "cell_type": "code",
   "execution_count": 12,
   "metadata": {
    "collapsed": false
   },
   "outputs": [
    {
     "data": {
      "text/plain": [
       "[-2.3104156721092344,\n",
       " -2.191222625140585,\n",
       " -2.3096097079310103,\n",
       " -2.285334739587518,\n",
       " -2.3289290683336477,\n",
       " -2.3953584931464005,\n",
       " -2.319324416998344,\n",
       " -2.257420541039672,\n",
       " -2.3217679124108197,\n",
       " -2.3191210616341453]"
      ]
     },
     "execution_count": 12,
     "metadata": {},
     "output_type": "execute_result"
    }
   ],
   "source": [
    "pi = [math.log(len(train_arrays[i]) * 1.0 / train_size) for i in range(10)]"
   ]
  },
  {
   "cell_type": "raw",
   "metadata": {},
   "source": [
    "c = 1"
   ]
  },
  {
   "cell_type": "raw",
   "metadata": {
    "collapsed": true
   },
   "source": [
    "covariances = []\n",
    "for i in range(10):\n",
    "    covariances.append(np.cov(np.array(train_arrays[i]).T) + c * np.eye(784))"
   ]
  },
  {
   "cell_type": "raw",
   "metadata": {},
   "source": [
    "covariance_inx = [np.linalg.inv(covariances[i]) for i in range(10)]"
   ]
  },
  {
   "cell_type": "raw",
   "metadata": {},
   "source": [
    "covariance_det = []\n",
    "for i in range(10):\n",
    "    sign, logdet = np.linalg.slogdet(covariances[i])\n",
    "    covariance_det.append(math.log(sign) + logdet)"
   ]
  },
  {
   "cell_type": "raw",
   "metadata": {
    "collapsed": true
   },
   "source": [
    "def h(num, x):\n",
    "    result = pi[num]\n",
    "    temp = x - means[num]\n",
    "    result -= 0.5 * (np.matrix(temp) * covariance_inx[num] * np.matrix(temp).T)\n",
    "    result -= 0.5 * covariance_det[num]\n",
    "    return result"
   ]
  },
  {
   "cell_type": "raw",
   "metadata": {},
   "source": [
    "def judge(x):\n",
    "    result = -1\n",
    "    tempmax = -sys.maxint\n",
    "    for i in range(10):\n",
    "        temp = h(i, np.array(x))\n",
    "        if temp > tempmax:\n",
    "            result = i\n",
    "            tempmax = temp\n",
    "    return result"
   ]
  },
  {
   "cell_type": "raw",
   "metadata": {},
   "source": [
    "count = 0\n",
    "for i in range(validation_size):\n",
    "    if judge(validation_data[i]) != validation_labels[i]:\n",
    "        count += 1\n",
    "count * 1.0 / validation_size"
   ]
  },
  {
   "cell_type": "code",
   "execution_count": null,
   "metadata": {
    "collapsed": true
   },
   "outputs": [],
   "source": [
    "def train(c):\n",
    "    covariances = []\n",
    "    for i in range(10):\n",
    "        covariances.append(np.cov(np.array(train_arrays[i]).T) + c * np.eye(784))\n",
    "    covariance_inx = [np.linalg.inv(covariances[i]) for i in range(10)]\n",
    "    covariance_det = []\n",
    "    for i in range(10):\n",
    "        sign, logdet = np.linalg.slogdet(covariances[i])\n",
    "        covariance_det.append(math.log(sign) + logdet)\n",
    "        \n",
    "    def h(num, x):\n",
    "        result = pi[num]\n",
    "        temp = x - means[num]\n",
    "        result -= 0.5 * (np.matrix(temp) * covariance_inx[num] * np.matrix(temp).T)\n",
    "        result -= 0.5 * covariance_det[num]\n",
    "        return result\n",
    "    \n",
    "    def judge(x):\n",
    "        result = -1\n",
    "        tempmax = -sys.maxint\n",
    "        for i in range(10):\n",
    "            temp = h(i, np.array(x))\n",
    "            if temp > tempmax:\n",
    "                result = i\n",
    "                tempmax = temp\n",
    "        return result\n",
    "    \n",
    "    count = 0\n",
    "    for i in range(validation_size):\n",
    "        if judge(validation_data[i]) != validation_labels[i]:\n",
    "            count += 1\n",
    "    return count * 1.0 / validation_size"
   ]
  },
  {
   "cell_type": "code",
   "execution_count": null,
   "metadata": {
    "collapsed": true
   },
   "outputs": [],
   "source": []
  }
 ],
 "metadata": {
  "kernelspec": {
   "display_name": "Python 2",
   "language": "python",
   "name": "python2"
  },
  "language_info": {
   "codemirror_mode": {
    "name": "ipython",
    "version": 2
   },
   "file_extension": ".py",
   "mimetype": "text/x-python",
   "name": "python",
   "nbconvert_exporter": "python",
   "pygments_lexer": "ipython2",
   "version": "2.7.10"
  }
 },
 "nbformat": 4,
 "nbformat_minor": 0
}
